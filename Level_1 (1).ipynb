{
  "nbformat": 4,
  "nbformat_minor": 0,
  "metadata": {
    "colab": {
      "provenance": []
    },
    "kernelspec": {
      "name": "python3",
      "display_name": "Python 3"
    },
    "language_info": {
      "name": "python"
    }
  },
  "cells": [
    {
      "cell_type": "code",
      "source": [],
      "metadata": {
        "id": "pqoVimcqLIoi"
      },
      "execution_count": null,
      "outputs": []
    },
    {
      "cell_type": "code",
      "execution_count": 1,
      "metadata": {
        "id": "2JpKyFEbKrCh"
      },
      "outputs": [],
      "source": [
        "import pandas as pd\n",
        "import matplotlib.pyplot as plt\n",
        "import seaborn as sns\n",
        "\n",
        "# Load your dataset\n",
        "df = pd.read_csv(\"/content/Dataset  (1).csv\")  # Replace with your file name\n"
      ]
    },
    {
      "cell_type": "code",
      "source": [
        "#task 1\n",
        "# Split cuisines by comma and count each\n",
        "cuisine_series = df['Cuisines'].dropna().str.split(', ').explode()\n",
        "top_cuisines = cuisine_series.value_counts().head(3)\n",
        "top_percentages = round(top_cuisines / len(df) * 100, 2)\n",
        "\n",
        "print(\"Top 3 Cuisines:\")\n",
        "print(top_cuisines)\n",
        "print(\"\\nPercentage of Restaurants Serving Each:\")\n",
        "print(top_percentages)\n"
      ],
      "metadata": {
        "colab": {
          "base_uri": "https://localhost:8080/"
        },
        "id": "7Clamd-uMiol",
        "outputId": "ec1d2317-637b-4978-9788-8e27412e3328"
      },
      "execution_count": 2,
      "outputs": [
        {
          "output_type": "stream",
          "name": "stdout",
          "text": [
            "Top 3 Cuisines:\n",
            "Cuisines\n",
            "North Indian    3960\n",
            "Chinese         2735\n",
            "Fast Food       1986\n",
            "Name: count, dtype: int64\n",
            "\n",
            "Percentage of Restaurants Serving Each:\n",
            "Cuisines\n",
            "North Indian    41.46\n",
            "Chinese         28.64\n",
            "Fast Food       20.79\n",
            "Name: count, dtype: float64\n"
          ]
        }
      ]
    },
    {
      "cell_type": "code",
      "source": [
        "#task 2\n",
        "# City with highest number of restaurants\n",
        "city_counts = df['City'].value_counts()\n",
        "top_city = city_counts.idxmax()\n",
        "print(\"City with most restaurants:\", top_city)\n",
        "\n",
        "# Average rating per city\n",
        "city_avg_rating = df.groupby('City')['Aggregate rating'].mean().sort_values(ascending=False)\n",
        "print(\"\\nAverage rating per city:\")\n",
        "print(city_avg_rating)\n",
        "\n",
        "# City with highest avg rating\n",
        "top_rated_city = city_avg_rating.idxmax()\n",
        "print(\"\\nCity with highest average rating:\", top_rated_city)\n"
      ],
      "metadata": {
        "colab": {
          "base_uri": "https://localhost:8080/"
        },
        "id": "yf6jwxXkNlvs",
        "outputId": "a8cdf8c7-571d-4592-d88c-cd2deb604be3"
      },
      "execution_count": 3,
      "outputs": [
        {
          "output_type": "stream",
          "name": "stdout",
          "text": [
            "City with most restaurants: New Delhi\n",
            "\n",
            "Average rating per city:\n",
            "City\n",
            "Inner City          4.900000\n",
            "Quezon City         4.800000\n",
            "Makati City         4.650000\n",
            "Pasig City          4.633333\n",
            "Mandaluyong City    4.625000\n",
            "                      ...   \n",
            "New Delhi           2.438845\n",
            "Montville           2.400000\n",
            "Mc Millan           2.400000\n",
            "Noida               2.036204\n",
            "Faridabad           1.866932\n",
            "Name: Aggregate rating, Length: 141, dtype: float64\n",
            "\n",
            "City with highest average rating: Inner City\n"
          ]
        }
      ]
    },
    {
      "cell_type": "code",
      "source": [
        "#task 3\n",
        "# Bar plot for price range\n",
        "price_counts = df['Price range'].value_counts().sort_index()\n",
        "price_percent = round(price_counts / len(df) * 100, 2)\n",
        "\n",
        "# Plot\n",
        "plt.figure(figsize=(8,5))\n",
        "sns.barplot(x=price_counts.index, y=price_counts.values, palette='Blues_d')\n",
        "plt.title(\"Price Range Distribution\")\n",
        "plt.xlabel(\"Price Range\")\n",
        "plt.ylabel(\"Number of Restaurants\")\n",
        "plt.show()\n",
        "\n",
        "print(\"\\nPercentage of Restaurants in Each Price Range:\")\n",
        "print(price_percent)\n"
      ],
      "metadata": {
        "colab": {
          "base_uri": "https://localhost:8080/",
          "height": 733
        },
        "id": "eU-u6nVXOAdW",
        "outputId": "960c89fb-d36e-47cc-f75b-71024af6d591"
      },
      "execution_count": 4,
      "outputs": [
        {
          "output_type": "stream",
          "name": "stderr",
          "text": [
            "/tmp/ipython-input-4-157553089.py:7: FutureWarning: \n",
            "\n",
            "Passing `palette` without assigning `hue` is deprecated and will be removed in v0.14.0. Assign the `x` variable to `hue` and set `legend=False` for the same effect.\n",
            "\n",
            "  sns.barplot(x=price_counts.index, y=price_counts.values, palette='Blues_d')\n"
          ]
        },
        {
          "output_type": "display_data",
          "data": {
            "text/plain": [
              "<Figure size 800x500 with 1 Axes>"
            ],
            "image/png": "[encoded data removed]"
          },
          "metadata": {}
        },
        {
          "output_type": "stream",
          "name": "stdout",
          "text": [
            "\n",
            "Percentage of Restaurants in Each Price Range:\n",
            "Price range\n",
            "1    46.53\n",
            "2    32.59\n",
            "3    14.74\n",
            "4     6.14\n",
            "Name: count, dtype: float64\n"
          ]
        }
      ]
    },
    {
      "cell_type": "code",
      "source": [
        "#task 4\n",
        "# Percentage offering online delivery\n",
        "online_delivery_percent = df['Has Online delivery'].value_counts(normalize=True) * 100\n",
        "print(\"Online Delivery Availability (%):\")\n",
        "print(online_delivery_percent)\n",
        "\n",
        "# Compare ratings\n",
        "ratings_comparison = df.groupby('Has Online delivery')['Aggregate rating'].mean()\n",
        "print(\"\\nAverage Ratings Based on Online Delivery:\")\n",
        "print(ratings_comparison)"
      ],
      "metadata": {
        "colab": {
          "base_uri": "https://localhost:8080/"
        },
        "id": "xfI95JmPOOMH",
        "outputId": "fb82636e-c15e-496c-9d54-1f2595bfe214"
      },
      "execution_count": 5,
      "outputs": [
        {
          "output_type": "stream",
          "name": "stdout",
          "text": [
            "Online Delivery Availability (%):\n",
            "Has Online delivery\n",
            "No     74.337766\n",
            "Yes    25.662234\n",
            "Name: proportion, dtype: float64\n",
            "\n",
            "Average Ratings Based on Online Delivery:\n",
            "Has Online delivery\n",
            "No     2.465296\n",
            "Yes    3.248837\n",
            "Name: Aggregate rating, dtype: float64\n"
          ]
        }
      ]
    }
  ]
}